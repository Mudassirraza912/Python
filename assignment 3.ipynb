{
 "cells": [
  {
   "cell_type": "markdown",
   "metadata": {},
   "source": [
    "# Make a calculator using Python with addition , subtraction , multiplication ,\n",
    "division and power.\n"
   ]
  },
  {
   "cell_type": "code",
   "execution_count": 3,
   "metadata": {},
   "outputs": [
    {
     "name": "stdout",
     "output_type": "stream",
     "text": [
      "Enter First Value 2\n",
      "Enter 2nd Value 3\n",
      "Enter Operator**\n",
      "value is 8\n"
     ]
    }
   ],
   "source": [
    "val1 = int(input('Enter First Value '))\n",
    "val2 = int(input('Enter 2nd Value '))\n",
    "operator = input('Enter Operator')\n",
    "if operator == '+' : \n",
    "    print('value is', val1 + val2) \n",
    "elif operator == '-' : \n",
    "    print('value is', val1 - val2) \n",
    "elif operator == '*' : \n",
    "    print('value is', val1 * val2) \n",
    "elif operator == '/' : \n",
    "    print('value is', val1 // val2) \n",
    "elif operator == '**' : \n",
    "    print('value is', val1 ** val2) \n",
    "else : \n",
    "    print('Please Put Correct Operator')"
   ]
  },
  {
   "cell_type": "markdown",
   "metadata": {},
   "source": [
    "# Write a program to check if there is any numeric value in list using for loop"
   ]
  },
  {
   "cell_type": "code",
   "execution_count": 14,
   "metadata": {},
   "outputs": [
    {
     "name": "stdout",
     "output_type": "stream",
     "text": [
      "INTEGER Not EXIST\n",
      "INTEGER Not EXIST\n",
      "INTEGER Not EXIST\n",
      "INTEGER EXIST\n"
     ]
    }
   ],
   "source": [
    "list = ['a','1','s',1]\n",
    "\n",
    "for a in list : \n",
    "    if type(a) == int : \n",
    "        print('INTEGER EXIST')\n",
    "#         break;\n",
    "    else : \n",
    "         print('INTEGER Not EXIST')\n",
    "#          break;\n",
    "\n",
    "    "
   ]
  },
  {
   "cell_type": "markdown",
   "metadata": {},
   "source": [
    "# Write a Python script to add a key to a dictionary"
   ]
  },
  {
   "cell_type": "code",
   "execution_count": 19,
   "metadata": {},
   "outputs": [
    {
     "name": "stdout",
     "output_type": "stream",
     "text": [
      "{'Firstname': 'Mudassir', 'Lastname': 'Raza', 'Age': 18, 'Address': 'Karachi'}\n"
     ]
    }
   ],
   "source": [
    "obj = {\n",
    "    \"Firstname\": \"Mudassir\",\n",
    "     \"Lastname\": \"Raza\",\n",
    "    \"Age\" : 18\n",
    "\n",
    "}\n",
    "obj[\"Address\"] = \"Karachi\" \n",
    "print(obj)"
   ]
  },
  {
   "cell_type": "markdown",
   "metadata": {},
   "source": [
    "# Write a Python program to sum all the numeric items in a dictionary# Write a Python program to sum all the numeric items in a dictionary\n"
   ]
  },
  {
   "cell_type": "code",
   "execution_count": 26,
   "metadata": {},
   "outputs": [
    {
     "name": "stdout",
     "output_type": "stream",
     "text": [
      "15\n"
     ]
    }
   ],
   "source": [
    "list = [1,2,3,4,5]\n",
    "sumnum = 0\n",
    "for key in list : \n",
    "     sumnum += key\n",
    "print(sumnum)"
   ]
  },
  {
   "cell_type": "markdown",
   "metadata": {},
   "source": [
    "# Write a program to identify duplicate values from list"
   ]
  },
  {
   "cell_type": "code",
   "execution_count": 4,
   "metadata": {},
   "outputs": [
    {
     "ename": "NameError",
     "evalue": "name 'my_list' is not defined",
     "output_type": "error",
     "traceback": [
      "\u001b[1;31m---------------------------------------------------------------------------\u001b[0m",
      "\u001b[1;31mNameError\u001b[0m                                 Traceback (most recent call last)",
      "\u001b[1;32m<ipython-input-4-39009d1042fc>\u001b[0m in \u001b[0;36m<module>\u001b[1;34m\u001b[0m\n\u001b[0;32m      2\u001b[0m \u001b[0mmylist\u001b[0m\u001b[1;33m.\u001b[0m\u001b[0msort\u001b[0m\u001b[1;33m(\u001b[0m\u001b[1;33m)\u001b[0m\u001b[1;33m\u001b[0m\u001b[1;33m\u001b[0m\u001b[0m\n\u001b[0;32m      3\u001b[0m \u001b[1;31m# print(range (len (my_list) -1))\u001b[0m\u001b[1;33m\u001b[0m\u001b[1;33m\u001b[0m\u001b[1;33m\u001b[0m\u001b[0m\n\u001b[1;32m----> 4\u001b[1;33m \u001b[1;32mfor\u001b[0m \u001b[0mi\u001b[0m \u001b[1;32min\u001b[0m \u001b[0mrange\u001b[0m \u001b[1;33m(\u001b[0m\u001b[0mlen\u001b[0m \u001b[1;33m(\u001b[0m\u001b[0mmy_list\u001b[0m\u001b[1;33m)\u001b[0m \u001b[1;33m-\u001b[0m\u001b[1;36m1\u001b[0m\u001b[1;33m)\u001b[0m\u001b[1;33m:\u001b[0m\u001b[1;33m\u001b[0m\u001b[1;33m\u001b[0m\u001b[0m\n\u001b[0m\u001b[0;32m      5\u001b[0m        \u001b[1;32mif\u001b[0m \u001b[0mmy_list\u001b[0m\u001b[1;33m[\u001b[0m\u001b[0mi\u001b[0m\u001b[1;33m]\u001b[0m \u001b[1;33m==\u001b[0m \u001b[0mmy_list\u001b[0m\u001b[1;33m[\u001b[0m\u001b[0mi\u001b[0m\u001b[1;33m+\u001b[0m\u001b[1;36m1\u001b[0m\u001b[1;33m]\u001b[0m\u001b[1;33m:\u001b[0m\u001b[1;33m\u001b[0m\u001b[1;33m\u001b[0m\u001b[0m\n\u001b[0;32m      6\u001b[0m         \u001b[0mprint\u001b[0m\u001b[1;33m(\u001b[0m\u001b[0mmy_list\u001b[0m\u001b[1;33m[\u001b[0m\u001b[0mi\u001b[0m\u001b[1;33m]\u001b[0m\u001b[1;33m)\u001b[0m\u001b[1;33m\u001b[0m\u001b[1;33m\u001b[0m\u001b[0m\n",
      "\u001b[1;31mNameError\u001b[0m: name 'my_list' is not defined"
     ]
    }
   ],
   "source": [
    "mylist = [\"a\",\"s\", \"a\", \"f\"]\n",
    "mylist.sort()\n",
    "# print(range (len (my_list) -1))\n",
    "for i in range (len (my_list) -1):\n",
    "       if my_list[i] == my_list[i+1]:\n",
    "        print(my_list[i])\n",
    "        \n",
    "# for key in mylist : \n",
    "#     for check in mylist :\n",
    "#         if key != check : \n",
    "#             print(key)"
   ]
  },
  {
   "cell_type": "markdown",
   "metadata": {},
   "source": [
    "# Write a Python script to check if a given key already exists in a dictionary"
   ]
  },
  {
   "cell_type": "code",
   "execution_count": 50,
   "metadata": {},
   "outputs": [
    {
     "name": "stdout",
     "output_type": "stream",
     "text": [
      "Enter KeyFirstname\n",
      "Firstname\n",
      "Wrong Keyword\n",
      "Wrong Keyword\n"
     ]
    }
   ],
   "source": [
    "getkey = input(\"Enter Key\")\n",
    "obj = {\n",
    "    \"Firstname\": \"Mudassir\",\n",
    "     \"Lastname\": \"Raza\",\n",
    "     \"Age\" : 18\n",
    "}\n",
    "\n",
    "for key, value in obj.items() : \n",
    "    if key == getkey : \n",
    "        print(getkey) \n",
    "    else :\n",
    "        print(\"Wrong Keyword\") \n",
    "        "
   ]
  },
  {
   "cell_type": "code",
   "execution_count": null,
   "metadata": {},
   "outputs": [],
   "source": []
  }
 ],
 "metadata": {
  "kernelspec": {
   "display_name": "Python 3",
   "language": "python",
   "name": "python3"
  },
  "language_info": {
   "codemirror_mode": {
    "name": "ipython",
    "version": 3
   },
   "file_extension": ".py",
   "mimetype": "text/x-python",
   "name": "python",
   "nbconvert_exporter": "python",
   "pygments_lexer": "ipython3",
   "version": "3.7.4"
  }
 },
 "nbformat": 4,
 "nbformat_minor": 2
}
