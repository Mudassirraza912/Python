{
 "cells": [
  {
   "cell_type": "markdown",
   "metadata": {},
   "source": [
    "# Question1:# \n",
    "\n"
   ]
  },
  {
   "cell_type": "code",
   "execution_count": 3,
   "metadata": {},
   "outputs": [
    {
     "name": "stdout",
     "output_type": "stream",
     "text": [
      "{'first_name': 'Haris', 'last_name': 'ansari', 'age': '18', 'city': 'karachi'}\n"
     ]
    }
   ],
   "source": [
    "obj = {\n",
    "    \"first_name\" : \"Haris\",\n",
    "    \"last_name\" : \"ansari\",\n",
    "    \"age\" : \"18\",\n",
    "    \"city\" : \"karachi\",\n",
    "}\n",
    "print(obj)"
   ]
  },
  {
   "cell_type": "code",
   "execution_count": 4,
   "metadata": {},
   "outputs": [
    {
     "name": "stdout",
     "output_type": "stream",
     "text": [
      "{'first_name': 'Haris', 'last_name': 'ansari', 'age': '18', 'city': 'karachi', 'qualification': 'Matirc'}\n"
     ]
    }
   ],
   "source": [
    "obj[\"qualification\"] = \"Matirc\"\n",
    "print(obj)"
   ]
  },
  {
   "cell_type": "code",
   "execution_count": 7,
   "metadata": {},
   "outputs": [
    {
     "name": "stdout",
     "output_type": "stream",
     "text": [
      "{'first_name': 'Haris', 'last_name': 'ansari', 'age': '18', 'city': 'karachi', 'qualification': 'Intermediate'}\n"
     ]
    }
   ],
   "source": [
    "obj[\"qualification\"] = \"Intermediate\"\n",
    "print(obj)"
   ]
  },
  {
   "cell_type": "markdown",
   "metadata": {},
   "source": [
    "## Question3:\n",
    "\n"
   ]
  },
  {
   "cell_type": "code",
   "execution_count": 18,
   "metadata": {},
   "outputs": [
    {
     "name": "stdout",
     "output_type": "stream",
     "text": [
      "Enter your age15\n",
      "Your ticket is $15\n"
     ]
    }
   ],
   "source": [
    "inp = int(input(\"Enter your age\"))\n",
    "if inp <= 3 : \n",
    "    print(\"YOur ricket is free\") \n",
    "elif inp > 3 and inp <= 12 : \n",
    "        print(\"your ticket is $10\")\n",
    "else : \n",
    "    print(\"Your ticket is $15\")"
   ]
  },
  {
   "cell_type": "markdown",
   "metadata": {},
   "source": [
    "# Question4:"
   ]
  },
  {
   "cell_type": "code",
   "execution_count": 21,
   "metadata": {},
   "outputs": [
    {
     "name": "stdout",
     "output_type": "stream",
     "text": [
      "One of my favorite book is Helo World!\n"
     ]
    }
   ],
   "source": [
    "def favorite_book(title) : \n",
    "    print(\"One of my favorite book is\" + \" \" +title)\n",
    "\n",
    "favorite_book(\"Helo World!\")"
   ]
  },
  {
   "cell_type": "code",
   "execution_count": 29,
   "metadata": {},
   "outputs": [
    {
     "name": "stdout",
     "output_type": "stream",
     "text": [
      "guess number between 1 to 3026\n",
      "Itss too high\n"
     ]
    }
   ],
   "source": [
    "import random\n",
    "\n",
    "random = random.randint(1, 30)\n",
    "\n",
    "guess = int(input(\"guess number between 1 to 30\"))\n",
    "\n",
    "if guess > random : \n",
    "    print(\"Itss too high\")\n",
    "elif guess < random : \n",
    "    print(\"Itss too low\")\n",
    "elif guess == random : \n",
    "    print(\"You are genius\")\n"
   ]
  },
  {
   "cell_type": "code",
   "execution_count": null,
   "metadata": {},
   "outputs": [],
   "source": []
  },
  {
   "cell_type": "code",
   "execution_count": null,
   "metadata": {},
   "outputs": [],
   "source": [
    "2"
   ]
  }
 ],
 "metadata": {
  "kernelspec": {
   "display_name": "Python 3",
   "language": "python",
   "name": "python3"
  },
  "language_info": {
   "codemirror_mode": {
    "name": "ipython",
    "version": 3
   },
   "file_extension": ".py",
   "mimetype": "text/x-python",
   "name": "python",
   "nbconvert_exporter": "python",
   "pygments_lexer": "ipython3",
   "version": "3.7.4"
  }
 },
 "nbformat": 4,
 "nbformat_minor": 2
}
