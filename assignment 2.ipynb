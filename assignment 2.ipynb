{
 "cells": [
  {
   "cell_type": "code",
   "execution_count": 13,
   "metadata": {},
   "outputs": [
    {
     "name": "stdout",
     "output_type": "stream",
     "text": [
      "Enter Your Math Marks10\n",
      "Enter Your Urdu Marks01\n",
      "Enter Your Urdu Marks10\n",
      "Enter Your Urdu Marks10\n",
      "Enter Your Urdu Marks10\n",
      "8.200000000000001\n",
      "FAIL\n"
     ]
    }
   ],
   "source": [
    "mathMarks = int(input(\"Enter Your Math Marks\"))\n",
    "urduMarks = int(input(\"Enter Your Urdu Marks\"))\n",
    "englishMarks = int(input(\"Enter Your Urdu Marks\"))\n",
    "chemistryMarks = int(input(\"Enter Your Urdu Marks\"))\n",
    "physicsMarks = int(input(\"Enter Your Urdu Marks\"))\n",
    "\n",
    "obtMarks = mathMarks + urduMarks + englishMarks + chemistryMarks + physicsMarks\n",
    "\n",
    "percentage = (obtMarks/500) * 100\n",
    "print(percentage)\n",
    "if percentage >= 50 and percentage < 60 :\n",
    "    print('total marks :', obtMarks, 'Grade : C')\n",
    "    \n",
    "elif percentage >= 60 and percentage < 70 : \n",
    "       print('total marks :', obtMarks, 'Grade : B')\n",
    "elif percentage >= 70 and percentage < 80 : \n",
    "       print('total marks :', obtMarks, 'Grade : A')\n",
    "elif percentage >= 80 : \n",
    "       print('total marks :', obtMarks, 'Grade : A+')\n",
    "else :\n",
    "       print('FAIL')"
   ]
  },
  {
   "cell_type": "code",
   "execution_count": 17,
   "metadata": {},
   "outputs": [
    {
     "name": "stdout",
     "output_type": "stream",
     "text": [
      "Enter any number10\n",
      "Input is Even\n"
     ]
    }
   ],
   "source": [
    "get_number = int(input('Enter any number'))\n",
    "testing = get_number % 2\n",
    "\n",
    "if testing > 0 :\n",
    "    print('Input is Odd')\n",
    "else :\n",
    "        print('Input is Even')\n"
   ]
  },
  {
   "cell_type": "code",
   "execution_count": 18,
   "metadata": {},
   "outputs": [
    {
     "name": "stdout",
     "output_type": "stream",
     "text": [
      "6\n"
     ]
    }
   ],
   "source": [
    "arr = [1,2,3,4,5,6]\n",
    "print(len(arr))"
   ]
  },
  {
   "cell_type": "code",
   "execution_count": 21,
   "metadata": {},
   "outputs": [
    {
     "name": "stdout",
     "output_type": "stream",
     "text": [
      "maximum number is 6\n",
      "minimum number is 1\n"
     ]
    }
   ],
   "source": [
    "arr = [1,2,3,4,5,6]\n",
    "print('maximum number is',max(arr))\n",
    "\n",
    "print('minimum number is',min(arr))\n"
   ]
  },
  {
   "cell_type": "code",
   "execution_count": 23,
   "metadata": {},
   "outputs": [
    {
     "name": "stdout",
     "output_type": "stream",
     "text": [
      "8\n",
      "13\n",
      "21\n",
      "34\n",
      "55\n",
      "89\n"
     ]
    }
   ],
   "source": [
    "a = [1, 1, 2, 3, 5, 8, 13, 21, 34, 55, 89]\n",
    "\n",
    "for key in a :\n",
    "    if key < 5 :\n",
    "        print(key)"
   ]
  },
  {
   "cell_type": "code",
   "execution_count": 25,
   "metadata": {},
   "outputs": [
    {
     "name": "stdout",
     "output_type": "stream",
     "text": [
      "<class 'str'>\n"
     ]
    }
   ],
   "source": [
    "a = \"3\"\n",
    "print(type(a))"
   ]
  },
  {
   "cell_type": "code",
   "execution_count": null,
   "metadata": {},
   "outputs": [],
   "source": []
  }
 ],
 "metadata": {
  "kernelspec": {
   "display_name": "Python 3",
   "language": "python",
   "name": "python3"
  },
  "language_info": {
   "codemirror_mode": {
    "name": "ipython",
    "version": 3
   },
   "file_extension": ".py",
   "mimetype": "text/x-python",
   "name": "python",
   "nbconvert_exporter": "python",
   "pygments_lexer": "ipython3",
   "version": "3.7.4"
  }
 },
 "nbformat": 4,
 "nbformat_minor": 2
}
